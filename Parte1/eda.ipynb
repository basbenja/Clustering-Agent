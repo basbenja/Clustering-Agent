{
 "cells": [
  {
   "cell_type": "markdown",
   "id": "e9a5ecf5",
   "metadata": {},
   "source": [
    "## **Importación de librerías**"
   ]
  },
  {
   "cell_type": "code",
   "execution_count": null,
   "id": "69c1d5d8",
   "metadata": {},
   "outputs": [],
   "source": [
    "import os\n",
    "import pandas as pd\n",
    "import matplotlib.pyplot as plt\n",
    "import missingno as msno\n",
    "import seaborn as sns\n",
    "\n",
    "from sklearn.impute import KNNImputer\n",
    "from sklearn.preprocessing import StandardScaler\n",
    "from sklearn.cluster import KMeans\n",
    "from sklearn.metrics import silhouette_score"
   ]
  },
  {
   "cell_type": "markdown",
   "id": "fa67d7d1",
   "metadata": {},
   "source": [
    "## **Carga de datos**"
   ]
  },
  {
   "cell_type": "code",
   "execution_count": null,
   "id": "89dcd078",
   "metadata": {},
   "outputs": [],
   "source": [
    "filename = 'iris_data_challenge.csv'\n",
    "file_path = os.path.join(os.path.dirname(os.getcwd()), filename)\n",
    "\n",
    "if not os.path.exists(file_path):\n",
    "    raise FileNotFoundError(f\"File {filename} not found in the current directory.\")\n",
    "\n",
    "try:\n",
    "    df = pd.read_csv(file_path)\n",
    "    df_clean = df.copy()\n",
    "except Exception as e:\n",
    "    raise RuntimeError(f\"Error reading the file: {e}\")"
   ]
  },
  {
   "cell_type": "markdown",
   "id": "358d1ee8",
   "metadata": {},
   "source": [
    "## **Análisis exploratorio**"
   ]
  },
  {
   "cell_type": "code",
   "execution_count": null,
   "id": "4a00fc17",
   "metadata": {},
   "outputs": [],
   "source": [
    "df_clean = df_clean.rename(columns={\n",
    "    'sepal length (cm)': 'sepal_length',\n",
    "    'sepal width (cm)' : 'sepal_width',\n",
    "    'petal length (cm)': 'petal_length',\n",
    "    'petal width (cm)' : 'petal_width',\n",
    "})"
   ]
  },
  {
   "cell_type": "code",
   "execution_count": null,
   "id": "1215d08e",
   "metadata": {},
   "outputs": [],
   "source": [
    "df_clean = df_clean.drop_duplicates()"
   ]
  },
  {
   "cell_type": "code",
   "execution_count": null,
   "id": "aa1b7689",
   "metadata": {},
   "outputs": [],
   "source": [
    "correlation_matrix = df_clean.dropna().corr()\n",
    "\n",
    "plt.figure(figsize=(6, 4))\n",
    "sns.heatmap(correlation_matrix, annot=True, cmap='viridis', fmt=\".2f\")\n",
    "plt.title(\"Matriz de Correlación\")\n",
    "plt.show()"
   ]
  },
  {
   "cell_type": "code",
   "execution_count": null,
   "id": "ec49ab4f",
   "metadata": {},
   "outputs": [],
   "source": [
    "def plot_columns_density(df):\n",
    "    fig, axes = plt.subplots(nrows=2, ncols=2, figsize=(10, 8))\n",
    "    axes = axes.flatten()\n",
    "\n",
    "    for i, col in enumerate(df.columns):\n",
    "        df[col].plot.density(ax=axes[i], color='blue', alpha=0.7)\n",
    "        axes[i].set_xlabel(col)\n",
    "        axes[i].set_ylabel('Densidad')\n",
    "\n",
    "    return fig, axes\n",
    "\n",
    "fig, axes = plot_columns_density(df_clean)\n",
    "plt.tight_layout()\n",
    "plt.show()"
   ]
  },
  {
   "cell_type": "markdown",
   "id": "8f6cb44b",
   "metadata": {},
   "source": [
    "## **Preprocesamiento**"
   ]
  },
  {
   "cell_type": "markdown",
   "id": "21a9907f",
   "metadata": {},
   "source": [
    "### **Imputación de valores nulos**"
   ]
  },
  {
   "cell_type": "code",
   "execution_count": null,
   "id": "80d6a9b0",
   "metadata": {},
   "outputs": [],
   "source": [
    "msno.heatmap(df_clean, figsize=(10,6))\n",
    "plt.show()"
   ]
  },
  {
   "cell_type": "code",
   "execution_count": null,
   "id": "338c4a83",
   "metadata": {},
   "outputs": [],
   "source": [
    "rows_with_2_or_more_nans = (df_clean.isna().sum(axis=1) > 1)\n",
    "n_rows_with_2_or_more_nans = rows_with_2_or_more_nans.sum()\n",
    "print(\n",
    "    f\"Hay {n_rows_with_2_or_more_nans} filas con 2 o más valores nulos, que \"\n",
    "    f\"representa el %{n_rows_with_2_or_more_nans / len(df_clean) * 100:.3f} de los datos.\"\n",
    ")\n",
    "\n",
    "df_clean = df_clean.loc[~rows_with_2_or_more_nans]"
   ]
  },
  {
   "cell_type": "code",
   "execution_count": null,
   "id": "d97ce1ee",
   "metadata": {},
   "outputs": [],
   "source": [
    "df_clean['sepal_width'] = df_clean['sepal_width'].fillna(df_clean['sepal_width'].mean())"
   ]
  },
  {
   "cell_type": "markdown",
   "id": "27e774af",
   "metadata": {},
   "source": [
    "### **Escalado de los datos**"
   ]
  },
  {
   "cell_type": "markdown",
   "id": "e3914152",
   "metadata": {},
   "source": [
    "`KNNImputer` require que los datos estén en la misma escala."
   ]
  },
  {
   "cell_type": "code",
   "execution_count": null,
   "id": "680f3815",
   "metadata": {},
   "outputs": [],
   "source": [
    "scaler = StandardScaler()\n",
    "df_clean[['sepal_length', 'sepal_width', 'petal_length', 'petal_width']] = scaler.fit_transform(\n",
    "    df_clean[['sepal_length', 'sepal_width', 'petal_length', 'petal_width']]\n",
    ")"
   ]
  },
  {
   "cell_type": "code",
   "execution_count": null,
   "id": "3716aace",
   "metadata": {},
   "outputs": [],
   "source": [
    "imputer = KNNImputer(n_neighbors=5)\n",
    "df_clean[['sepal_length', 'petal_length', 'petal_width']] = imputer.fit_transform(\n",
    "    df_clean[['sepal_length', 'petal_length', 'petal_width']]\n",
    ")"
   ]
  },
  {
   "cell_type": "markdown",
   "id": "622abce0",
   "metadata": {},
   "source": [
    "Verificamos que las densidad se hayan mantenido similares después de la estandarización y la imputación de valores nulos."
   ]
  },
  {
   "cell_type": "code",
   "execution_count": null,
   "id": "91e7f116",
   "metadata": {},
   "outputs": [],
   "source": [
    "fig, axes = plot_columns_density(df_clean)\n",
    "plt.tight_layout()\n",
    "plt.show()"
   ]
  },
  {
   "cell_type": "code",
   "execution_count": null,
   "id": "4b871257",
   "metadata": {},
   "outputs": [],
   "source": [
    "df_clean = df_clean.reset_index(drop=True)"
   ]
  },
  {
   "cell_type": "markdown",
   "id": "fa29c5cc",
   "metadata": {},
   "source": [
    "## **Clustering con K vecinos más cercanos**"
   ]
  },
  {
   "cell_type": "markdown",
   "id": "d55ad388",
   "metadata": {},
   "source": [
    "### **Determinación del número de clusters**"
   ]
  },
  {
   "cell_type": "code",
   "execution_count": null,
   "id": "a62907bb",
   "metadata": {},
   "outputs": [],
   "source": [
    "wcss = []\n",
    "range_n_clusters = list(range(2, 16))\n",
    "\n",
    "for num_clusters in range_n_clusters:\n",
    "    kmeans = KMeans(n_clusters=num_clusters, random_state=0, n_init='auto', max_iter=30)\n",
    "    kmeans.fit(df_clean)\n",
    "    wcss.append(kmeans.inertia_)\n",
    "\n",
    "plt.plot(range_n_clusters, wcss)\n",
    "plt.title(\"Método del codo\")\n",
    "plt.xlabel(\"Número de clusters\")\n",
    "plt.ylabel(\"Varianza total intra-cluster \")\n",
    "plt.xticks(range_n_clusters)\n",
    "\n",
    "plt.grid()\n",
    "plt.show()"
   ]
  },
  {
   "cell_type": "markdown",
   "id": "12dea3ee",
   "metadata": {},
   "source": [
    "### **Clustering final**"
   ]
  },
  {
   "cell_type": "code",
   "execution_count": null,
   "id": "7d89e9de",
   "metadata": {},
   "outputs": [],
   "source": [
    "selected_num_clusters = 5\n",
    "\n",
    "kmeans = KMeans(n_clusters=selected_num_clusters, random_state=0, n_init='auto', max_iter=30)\n",
    "kmeans.fit(df_clean)"
   ]
  },
  {
   "cell_type": "markdown",
   "id": "2e064935",
   "metadata": {},
   "source": [
    "## **Guardar nuevo dataset**"
   ]
  },
  {
   "cell_type": "code",
   "execution_count": null,
   "id": "8c2dfddc",
   "metadata": {},
   "outputs": [],
   "source": [
    "df_clusters = df_clean.copy()\n",
    "df_clusters['cluster'] = kmeans.labels_\n",
    "df_clusters['cluster'] = df_clusters['cluster'].astype('category')"
   ]
  },
  {
   "cell_type": "code",
   "execution_count": null,
   "id": "8c3cc886",
   "metadata": {},
   "outputs": [],
   "source": [
    "df_clusters.cluster.value_counts()"
   ]
  },
  {
   "cell_type": "code",
   "execution_count": null,
   "id": "cce745e1",
   "metadata": {},
   "outputs": [],
   "source": [
    "df_clusters.to_csv('iris_data_challenge_with_clusters.csv', index=False)"
   ]
  }
 ],
 "metadata": {
  "kernelspec": {
   "display_name": "clustering-agent-test",
   "language": "python",
   "name": "python3"
  },
  "language_info": {
   "codemirror_mode": {
    "name": "ipython",
    "version": 3
   },
   "file_extension": ".py",
   "mimetype": "text/x-python",
   "name": "python",
   "nbconvert_exporter": "python",
   "pygments_lexer": "ipython3",
   "version": "3.12.7"
  }
 },
 "nbformat": 4,
 "nbformat_minor": 5
}
